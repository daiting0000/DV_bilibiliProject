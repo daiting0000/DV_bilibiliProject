{
 "cells": [
  {
   "cell_type": "code",
   "execution_count": 1,
   "metadata": {},
   "outputs": [],
   "source": [
    "from cgitb import text\n",
    "from curses import KEY_ENTER\n",
    "from pickletools import uint1\n",
    "from xml.dom.minidom import Element\n",
    "from selenium import webdriver\n",
    "from selenium.webdriver.common.keys import Keys\n",
    "import time\n",
    "from selenium.webdriver.common.by import By\n",
    "from selenium.webdriver.support.ui import WebDriverWait\n",
    "from selenium.webdriver.support import expected_conditions as EC\n",
    "import csv"
   ]
  },
  {
   "cell_type": "markdown",
   "metadata": {},
   "source": [
    "### 164期每周必看"
   ]
  },
  {
   "cell_type": "code",
   "execution_count": 9,
   "metadata": {},
   "outputs": [
    {
     "name": "stdout",
     "output_type": "stream",
     "text": [
      "加载完成\n"
     ]
    },
    {
     "name": "stderr",
     "output_type": "stream",
     "text": [
      "/var/folders/jn/tbw_ghm91nzfy0y5zz9n5xcc0000gn/T/ipykernel_82093/1635375301.py:12: DeprecationWarning: find_element_by_xpath is deprecated. Please use find_element(by=By.XPATH, value=xpath) instead\n",
      "  button_1=browser.find_element_by_xpath('//*[@id=\"app\"]/div/div[1]/div[2]/div/span') # 每周必看\n",
      "/var/folders/jn/tbw_ghm91nzfy0y5zz9n5xcc0000gn/T/ipykernel_82093/1635375301.py:15: DeprecationWarning: find_element_by_xpath is deprecated. Please use find_element(by=By.XPATH, value=xpath) instead\n",
      "  button_2=browser.find_element_by_xpath('//*[@id=\"app\"]/div/div[2]/div[1]/div[1]/span')\n",
      "/var/folders/jn/tbw_ghm91nzfy0y5zz9n5xcc0000gn/T/ipykernel_82093/1635375301.py:18: DeprecationWarning: find_element_by_xpath is deprecated. Please use find_element(by=By.XPATH, value=xpath) instead\n",
      "  button_3=browser.find_element_by_xpath('//*[@id=\"app\"]/div/div[2]/div[1]/div[1]/div/div[4]/p[1]')\n"
     ]
    },
    {
     "name": "stdout",
     "output_type": "stream",
     "text": [
      "加载完成\n"
     ]
    },
    {
     "name": "stderr",
     "output_type": "stream",
     "text": [
      "/var/folders/jn/tbw_ghm91nzfy0y5zz9n5xcc0000gn/T/ipykernel_82093/1635375301.py:41: DeprecationWarning: find_element_by_xpath is deprecated. Please use find_element(by=By.XPATH, value=xpath) instead\n",
      "  elem_text=browser.find_element_by_xpath(f'//*[@id=\"app\"]/div/div[2]/div[2]/div/div[{i}]/div[2]/p')  # 视频标题\n",
      "/var/folders/jn/tbw_ghm91nzfy0y5zz9n5xcc0000gn/T/ipykernel_82093/1635375301.py:44: DeprecationWarning: find_element_by_xpath is deprecated. Please use find_element(by=By.XPATH, value=xpath) instead\n",
      "  elem_up=browser.find_element_by_xpath(f'//*[@id=\"app\"]/div/div[2]/div[2]/div/div[{i}]/div[2]/div/span[1]/span')  # UP主页面\n",
      "/var/folders/jn/tbw_ghm91nzfy0y5zz9n5xcc0000gn/T/ipykernel_82093/1635375301.py:51: DeprecationWarning: find_element_by_xpath is deprecated. Please use find_element(by=By.XPATH, value=xpath) instead\n",
      "  elem_fans=browser.find_element_by_xpath(f'//*[@id=\"n-fs\"]')\n"
     ]
    }
   ],
   "source": [
    "browser=webdriver.Chrome()\n",
    "browser.get('https://www.bilibili.com/v/popular/all?spm_id_from=333.1007.0.0')\n",
    "try:\n",
    "    wait=WebDriverWait(browser,100)\n",
    "    element=wait.until(EC.presence_of_all_elements_located)\n",
    "finally:\n",
    "    print('加载完成')\n",
    "\n",
    "windows=browser.window_handles \n",
    "browser.switch_to.window(windows[-1])\n",
    "browser.execute_script('var q=document.documentElement.scrollTop=0')\n",
    "button_1=browser.find_element_by_xpath('//*[@id=\"app\"]/div/div[1]/div[2]/div/span') # 每周必看\n",
    "button_1.click()\n",
    "time.sleep(2)\n",
    "button_2=browser.find_element_by_xpath('//*[@id=\"app\"]/div/div[2]/div[1]/div[1]/span')\n",
    "button_2.click()\n",
    "time.sleep(2)\n",
    "button_3=browser.find_element_by_xpath('//*[@id=\"app\"]/div/div[2]/div[1]/div[1]/div/div[4]/p[1]') # 164期\n",
    "button_3.click()\n",
    "\n",
    "windows=browser.window_handles\n",
    "browser.switch_to.window(windows[-1])\n",
    "try:\n",
    "    wait=WebDriverWait(browser,100)\n",
    "    element=wait.until(EC.presence_of_all_elements_located)\n",
    "finally:\n",
    "    print('加载完成')\n",
    "\n",
    "time.sleep(2)\n",
    "\n",
    "fans = []\n",
    "up = []\n",
    "title_week = [] # 每周必看视频的标题\n",
    "\n",
    "\n",
    "\n",
    "for i in range (1,43):\n",
    "    try: \n",
    "        windows=browser.window_handles\n",
    "        browser.switch_to.window(windows[-1])\n",
    "        elem_text=browser.find_element_by_xpath(f'//*[@id=\"app\"]/div/div[2]/div[2]/div/div[{i}]/div[2]/p')  # 视频标题\n",
    "        title_week.append(elem_text.text)  # 将比视频标题放入列表\n",
    "\n",
    "        elem_up=browser.find_element_by_xpath(f'//*[@id=\"app\"]/div/div[2]/div[2]/div/div[{i}]/div[2]/div/span[1]/span')  # UP主页面\n",
    "        up.append(elem_up.text)\n",
    "        elem_up.click()  # 点击进入up主页面\n",
    "        time.sleep(10)\n",
    "\n",
    "        windows=browser.window_handles\n",
    "        browser.switch_to.window(windows[-1])\n",
    "        elem_fans=browser.find_element_by_xpath(f'//*[@id=\"n-fs\"]')\n",
    "        fans.append(elem_fans.text)\n",
    "            \n",
    "        browser.close()\n",
    "        \n",
    "    except Exception as e:\n",
    "        pass\n",
    "    continue"
   ]
  },
  {
   "cell_type": "code",
   "execution_count": 40,
   "metadata": {},
   "outputs": [
    {
     "data": {
      "text/plain": [
       "[['为了体验下在太空里那种失重旋转的感觉自己做了辆失重离心车', '手工耿', '655.9万'],\n",
       " ['求求你别停产！这玩意我能吃一辈子！！', '大碗拿铁', '305万'],\n",
       " ['《本草纲目》，但是废话文学', '咆哮丶土拨鼠', '53.4万'],\n",
       " ['【我的世界 4K】一人，四年，十亿方块，一座华夏城', 'GNwork团队', '10万'],\n",
       " ['只要5分钟，请为你的妈妈看完这个视频吧', '二二酸酸', '163.9万'],\n",
       " ['“历史书太小 装不下一个人波澜壮阔的一生 历史书又太大 装下了华夏上下五千年 ”', '海棠家的大肥鱼', '53.6万'],\n",
       " ['华 妃 之 怒', '小芃路子野', '69.4万'],\n",
       " ['G2：打T1这事儿还得我来教你！', '怪盗配音', '56.9万'],\n",
       " ['掀开满层辣椒，终于明白，这玩意儿为啥能火爆夜宵街头了！', '盗月社食遇记', '684.2万'],\n",
       " ['⚡️第一次当妈，没啥经验⚡️', '城市里的动物', '3.9万'],\n",
       " ['东汉顶流格局有多大？【小约翰】', '小约翰可汗', '437.2万'],\n",
       " ['这绝对是你见过的最像费玉清版的爱情恰恰', '反白嫖艺术家', '12.3万'],\n",
       " ['今年23岁！我居然被迫剃了寸头！', '自来卷三木', '259.3万'],\n",
       " ['用【本草纲目】演奏【本草纲目】', '白林Bylin', '6.2万'],\n",
       " ['原来名校的答辩PPT长这样，怪不得导师要给满分！', 'PPT进化论', '17万'],\n",
       " ['全世界仅此一辆！用96天为我的宝贝造出一辆兰博基尼 Vision GT概念超跑', '越南木匠阿岛', '9.1万'],\n",
       " ['【洛天依AI】玫瑰与泪【ACE COVER】', 'Creuzer', '13.5万'],\n",
       " ['峡谷科目四世界纪录：5分4秒速杀小龙！自信即是巅峰！！', '布锅锅', '134.9万'],\n",
       " ['长视频来啦，在b站我还是个新手村的up主，非常感谢大家的认可和支持，我也会一如既往，继续坚持。', 'hello刘小备', '45.4万'],\n",
       " ['【颈椎自救】5个最舒服的康复动作，缓解肩颈疼痛僵硬！(坐姿版)', '郝强Fit', '13.2万'],\n",
       " ['一键蒸发7000血的套路！对手：我去！外挂！！！【有点骚东西】', '上海滩许Van强', '175.7万'],\n",
       " ['为了这个视频，我老公去借了一辆劳斯莱斯.......', '卡琳娜和揉西', '105.3万'],\n",
       " ['真正的服装设计师看《明日方舟》里时装的反应！', '星野派克', '22.5万'],\n",
       " ['【阿坝吃饭故事03】汶川', '食贫道', '250.4万'],\n",
       " ['【动画毕设】《蓝骑士》', '二斤鬼火', '9960'],\n",
       " ['爆肝30天，我用3000块多米诺骨牌画了个龙珠', '舒舒酷北北', '1.9万'],\n",
       " ['【顶流的诞生】农村小伙自制奢侈品大牌 | 极限反差 | 纪梵希 维密 |', '垫底辣孩', '17.2万'],\n",
       " ['带男朋友过了一个难忘的生日！！！', '宝剑嫂', '413.5万'],\n",
       " ['【愚人号】SN-EX-1至8突袭 SN-S-1AB至5 摆完挂机 简单好抄', '萧然Q', '37.2万'],\n",
       " ['说出来你们不信，这里20块钱一天老过瘾了，哈哈', '小昕去钓鱼', '11.5万'],\n",
       " ['B站独家《刺客信条 : 大革命》电影版 含全新镜头 中法英三字 155分钟完整版 激荡的革命和爱情 粉丝作品 4K 21:9宽荧幕',\n",
       "  '北忆大人',\n",
       "  '6.4万'],\n",
       " ['挥汗50天用344根雪糕棒设计制作一把源氏短刀', '手工侠', '11.8万'],\n",
       " ['“护 食”', '高斯Goh', '154.2万'],\n",
       " ['【LOL】20G2MSI宣传片——上单教父', 'G2电子竞技俱乐部', '24.8万'],\n",
       " ['经 典 折 磨', '深海色带鱼', '132.4万'],\n",
       " ['花五个月“解锁”《铠甲勇士激斗传》的最终结局！全部铠甲！', '日向源', '67.1万'],\n",
       " ['赚秦明？上梁山？土匪体验券已到账！《水浒传》P20', '木鱼水心', '882.9万'],\n",
       " ['【STN快报第六季30-居家版】自从玩了运动游戏，身体一天不如一天了', 'STN工作室', '195.9万'],\n",
       " ['小当家还是拍的太保守了！！！', '黑猫厨房', '405.9万'],\n",
       " ['消失的歌姬丨80年代日本TOP1!中森明菜40周年特辑丨HOPICO', 'HOPICO', '69.9万'],\n",
       " ['求求你别卷我了！卖1元真不贵', '赖皮猴爱美食', '172.9万'],\n",
       " ['《孤勇者》天花板翻唱，谁才是孤勇者之王？', 'JoeCreator', '55.3万']]"
      ]
     },
     "execution_count": 40,
     "metadata": {},
     "output_type": "execute_result"
    }
   ],
   "source": [
    "list_target = []\n",
    "for i in range(0,42):\n",
    "    list_target.append([])\n",
    "    list_target[i].append(title_week[i])\n",
    "    list_target[i].append(up[i])\n",
    "    list_target[i].append(fans[i])\n",
    "\n",
    "list_target"
   ]
  },
  {
   "cell_type": "code",
   "execution_count": 41,
   "metadata": {},
   "outputs": [],
   "source": [
    "with open('fans164.csv', 'w',encoding='utf_8_sig') as f:  \n",
    "    writer = csv.writer(f)\n",
    "    for row in list_target:\n",
    "        writer.writerow(row)  # 将列表信息写如csv文档"
   ]
  },
  {
   "cell_type": "code",
   "execution_count": 44,
   "metadata": {},
   "outputs": [
    {
     "name": "stdout",
     "output_type": "stream",
     "text": [
      "加载完成\n"
     ]
    },
    {
     "name": "stderr",
     "output_type": "stream",
     "text": [
      "/var/folders/jn/tbw_ghm91nzfy0y5zz9n5xcc0000gn/T/ipykernel_82093/3210003185.py:12: DeprecationWarning: find_element_by_xpath is deprecated. Please use find_element(by=By.XPATH, value=xpath) instead\n",
      "  button_1=browser.find_element_by_xpath('//*[@id=\"app\"]/div/div[1]/div[2]/div/span') # 每周必看\n",
      "/var/folders/jn/tbw_ghm91nzfy0y5zz9n5xcc0000gn/T/ipykernel_82093/3210003185.py:15: DeprecationWarning: find_element_by_xpath is deprecated. Please use find_element(by=By.XPATH, value=xpath) instead\n",
      "  button_2=browser.find_element_by_xpath('//*[@id=\"app\"]/div/div[2]/div[1]/div[1]/span')\n",
      "/var/folders/jn/tbw_ghm91nzfy0y5zz9n5xcc0000gn/T/ipykernel_82093/3210003185.py:18: DeprecationWarning: find_element_by_xpath is deprecated. Please use find_element(by=By.XPATH, value=xpath) instead\n",
      "  button_3=browser.find_element_by_xpath('//*[@id=\"app\"]/div/div[2]/div[1]/div[1]/div/div[3]/p[1]')  # 165期\n"
     ]
    },
    {
     "name": "stdout",
     "output_type": "stream",
     "text": [
      "加载完成\n"
     ]
    },
    {
     "name": "stderr",
     "output_type": "stream",
     "text": [
      "/var/folders/jn/tbw_ghm91nzfy0y5zz9n5xcc0000gn/T/ipykernel_82093/3210003185.py:41: DeprecationWarning: find_element_by_xpath is deprecated. Please use find_element(by=By.XPATH, value=xpath) instead\n",
      "  elem_text=browser.find_element_by_xpath(f'//*[@id=\"app\"]/div/div[2]/div[2]/div/div[{i}]/div[2]/p')  # 视频标题\n",
      "/var/folders/jn/tbw_ghm91nzfy0y5zz9n5xcc0000gn/T/ipykernel_82093/3210003185.py:44: DeprecationWarning: find_element_by_xpath is deprecated. Please use find_element(by=By.XPATH, value=xpath) instead\n",
      "  elem_up=browser.find_element_by_xpath(f'//*[@id=\"app\"]/div/div[2]/div[2]/div/div[{i}]/div[2]/div/span[1]/span')  # UP主页面\n",
      "/var/folders/jn/tbw_ghm91nzfy0y5zz9n5xcc0000gn/T/ipykernel_82093/3210003185.py:51: DeprecationWarning: find_element_by_xpath is deprecated. Please use find_element(by=By.XPATH, value=xpath) instead\n",
      "  elem_fans=browser.find_element_by_xpath(f'//*[@id=\"n-fs\"]')\n"
     ]
    }
   ],
   "source": [
    "browser=webdriver.Chrome()\n",
    "browser.get('https://www.bilibili.com/v/popular/all?spm_id_from=333.1007.0.0')\n",
    "try:\n",
    "    wait=WebDriverWait(browser,100)\n",
    "    element=wait.until(EC.presence_of_all_elements_located)\n",
    "finally:\n",
    "    print('加载完成')\n",
    "\n",
    "windows=browser.window_handles \n",
    "browser.switch_to.window(windows[-1])\n",
    "browser.execute_script('var q=document.documentElement.scrollTop=0')\n",
    "button_1=browser.find_element_by_xpath('//*[@id=\"app\"]/div/div[1]/div[2]/div/span') # 每周必看\n",
    "button_1.click()\n",
    "time.sleep(2)\n",
    "button_2=browser.find_element_by_xpath('//*[@id=\"app\"]/div/div[2]/div[1]/div[1]/span')\n",
    "button_2.click()\n",
    "time.sleep(2)\n",
    "button_3=browser.find_element_by_xpath('//*[@id=\"app\"]/div/div[2]/div[1]/div[1]/div/div[3]/p[1]')  # 165期\n",
    "button_3.click()\n",
    "\n",
    "windows=browser.window_handles\n",
    "browser.switch_to.window(windows[-1])\n",
    "try:\n",
    "    wait=WebDriverWait(browser,100)\n",
    "    element=wait.until(EC.presence_of_all_elements_located)\n",
    "finally:\n",
    "    print('加载完成')\n",
    "\n",
    "time.sleep(2)\n",
    "\n",
    "fans165 = []\n",
    "up165 = []\n",
    "title_week165 = [] # 每周必看视频的标题\n",
    "\n",
    "\n",
    "\n",
    "for i in range (1,43):\n",
    "    try: \n",
    "        windows=browser.window_handles\n",
    "        browser.switch_to.window(windows[-1])\n",
    "        elem_text=browser.find_element_by_xpath(f'//*[@id=\"app\"]/div/div[2]/div[2]/div/div[{i}]/div[2]/p')  # 视频标题\n",
    "        title_week165.append(elem_text.text)  # 将比视频标题放入列表\n",
    "\n",
    "        elem_up=browser.find_element_by_xpath(f'//*[@id=\"app\"]/div/div[2]/div[2]/div/div[{i}]/div[2]/div/span[1]/span')  # UP主页面\n",
    "        up165.append(elem_up.text)\n",
    "        elem_up.click()  # 点击进入up主页面\n",
    "        time.sleep(10)\n",
    "\n",
    "        windows=browser.window_handles\n",
    "        browser.switch_to.window(windows[-1])\n",
    "        elem_fans=browser.find_element_by_xpath(f'//*[@id=\"n-fs\"]')\n",
    "        fans165.append(elem_fans.text)\n",
    "            \n",
    "        browser.close()\n",
    "        \n",
    "    except Exception as e:\n",
    "        pass\n",
    "    continue"
   ]
  },
  {
   "cell_type": "code",
   "execution_count": 47,
   "metadata": {},
   "outputs": [],
   "source": [
    "list_target165 = []\n",
    "for i in range(0,42):\n",
    "    list_target165.append([])\n",
    "    list_target165[i].append(title_week165[i])\n",
    "    list_target165[i].append(up165[i])\n",
    "    list_target165[i].append(fans165[i])\n",
    "\n",
    "with open('fans165.csv', 'w',encoding='utf_8_sig') as f:  \n",
    "    writer = csv.writer(f)\n",
    "    for row in list_target165:\n",
    "        writer.writerow(row)  # 将列表信息写如csv文档"
   ]
  },
  {
   "cell_type": "markdown",
   "metadata": {},
   "source": [
    "### 166期每周必看"
   ]
  },
  {
   "cell_type": "code",
   "execution_count": 48,
   "metadata": {},
   "outputs": [
    {
     "name": "stdout",
     "output_type": "stream",
     "text": [
      "加载完成\n"
     ]
    },
    {
     "name": "stderr",
     "output_type": "stream",
     "text": [
      "/var/folders/jn/tbw_ghm91nzfy0y5zz9n5xcc0000gn/T/ipykernel_82093/2638373470.py:12: DeprecationWarning: find_element_by_xpath is deprecated. Please use find_element(by=By.XPATH, value=xpath) instead\n",
      "  button_1=browser.find_element_by_xpath('//*[@id=\"app\"]/div/div[1]/div[2]/div/span') # 每周必看\n",
      "/var/folders/jn/tbw_ghm91nzfy0y5zz9n5xcc0000gn/T/ipykernel_82093/2638373470.py:15: DeprecationWarning: find_element_by_xpath is deprecated. Please use find_element(by=By.XPATH, value=xpath) instead\n",
      "  button_2=browser.find_element_by_xpath('//*[@id=\"app\"]/div/div[2]/div[1]/div[1]/span')\n",
      "/var/folders/jn/tbw_ghm91nzfy0y5zz9n5xcc0000gn/T/ipykernel_82093/2638373470.py:18: DeprecationWarning: find_element_by_xpath is deprecated. Please use find_element(by=By.XPATH, value=xpath) instead\n",
      "  button_3=browser.find_element_by_xpath('//*[@id=\"app\"]/div/div[2]/div[1]/div[1]/div/div[2]/p[1]')  # 166期\n"
     ]
    },
    {
     "name": "stdout",
     "output_type": "stream",
     "text": [
      "加载完成\n"
     ]
    },
    {
     "name": "stderr",
     "output_type": "stream",
     "text": [
      "/var/folders/jn/tbw_ghm91nzfy0y5zz9n5xcc0000gn/T/ipykernel_82093/2638373470.py:41: DeprecationWarning: find_element_by_xpath is deprecated. Please use find_element(by=By.XPATH, value=xpath) instead\n",
      "  elem_text=browser.find_element_by_xpath(f'//*[@id=\"app\"]/div/div[2]/div[2]/div/div[{i}]/div[2]/p')  # 视频标题\n",
      "/var/folders/jn/tbw_ghm91nzfy0y5zz9n5xcc0000gn/T/ipykernel_82093/2638373470.py:44: DeprecationWarning: find_element_by_xpath is deprecated. Please use find_element(by=By.XPATH, value=xpath) instead\n",
      "  elem_up=browser.find_element_by_xpath(f'//*[@id=\"app\"]/div/div[2]/div[2]/div/div[{i}]/div[2]/div/span[1]/span')  # UP主页面\n",
      "/var/folders/jn/tbw_ghm91nzfy0y5zz9n5xcc0000gn/T/ipykernel_82093/2638373470.py:51: DeprecationWarning: find_element_by_xpath is deprecated. Please use find_element(by=By.XPATH, value=xpath) instead\n",
      "  elem_fans=browser.find_element_by_xpath(f'//*[@id=\"n-fs\"]')\n"
     ]
    }
   ],
   "source": [
    "browser=webdriver.Chrome()\n",
    "browser.get('https://www.bilibili.com/v/popular/all?spm_id_from=333.1007.0.0')\n",
    "try:\n",
    "    wait=WebDriverWait(browser,100)\n",
    "    element=wait.until(EC.presence_of_all_elements_located)\n",
    "finally:\n",
    "    print('加载完成')\n",
    "\n",
    "windows=browser.window_handles \n",
    "browser.switch_to.window(windows[-1])\n",
    "browser.execute_script('var q=document.documentElement.scrollTop=0')\n",
    "button_1=browser.find_element_by_xpath('//*[@id=\"app\"]/div/div[1]/div[2]/div/span') # 每周必看\n",
    "button_1.click()\n",
    "time.sleep(2)\n",
    "button_2=browser.find_element_by_xpath('//*[@id=\"app\"]/div/div[2]/div[1]/div[1]/span')\n",
    "button_2.click()\n",
    "time.sleep(2)\n",
    "button_3=browser.find_element_by_xpath('//*[@id=\"app\"]/div/div[2]/div[1]/div[1]/div/div[2]/p[1]')  # 166期\n",
    "button_3.click()\n",
    "\n",
    "windows=browser.window_handles\n",
    "browser.switch_to.window(windows[-1])\n",
    "try:\n",
    "    wait=WebDriverWait(browser,100)\n",
    "    element=wait.until(EC.presence_of_all_elements_located)\n",
    "finally:\n",
    "    print('加载完成')\n",
    "\n",
    "time.sleep(2)\n",
    "\n",
    "fans166 = []\n",
    "up166 = []\n",
    "title_week166 = [] # 每周必看视频的标题\n",
    "\n",
    "\n",
    "\n",
    "for i in range (1,43):\n",
    "    try: \n",
    "        windows=browser.window_handles\n",
    "        browser.switch_to.window(windows[-1])\n",
    "        elem_text=browser.find_element_by_xpath(f'//*[@id=\"app\"]/div/div[2]/div[2]/div/div[{i}]/div[2]/p')  # 视频标题\n",
    "        title_week166.append(elem_text.text)  # 将比视频标题放入列表\n",
    "\n",
    "        elem_up=browser.find_element_by_xpath(f'//*[@id=\"app\"]/div/div[2]/div[2]/div/div[{i}]/div[2]/div/span[1]/span')  # UP主页面\n",
    "        up166.append(elem_up.text)\n",
    "        elem_up.click()  # 点击进入up主页面\n",
    "        time.sleep(10)\n",
    "\n",
    "        windows=browser.window_handles\n",
    "        browser.switch_to.window(windows[-1])\n",
    "        elem_fans=browser.find_element_by_xpath(f'//*[@id=\"n-fs\"]')\n",
    "        fans166.append(elem_fans.text)\n",
    "            \n",
    "        browser.close()\n",
    "        \n",
    "    except Exception as e:\n",
    "        pass\n",
    "    continue"
   ]
  },
  {
   "cell_type": "code",
   "execution_count": 50,
   "metadata": {},
   "outputs": [],
   "source": [
    "list_target166 = []\n",
    "for i in range(0,42):\n",
    "    list_target166.append([])\n",
    "    list_target166[i].append(title_week166[i])\n",
    "    list_target166[i].append(up166[i])\n",
    "    list_target166[i].append(fans166[i])\n",
    "\n",
    "with open('fans166.csv', 'w',encoding='utf_8_sig') as f:  \n",
    "    writer = csv.writer(f)\n",
    "    for row in list_target166:\n",
    "        writer.writerow(row)  # 将列表信息写如csv文档"
   ]
  },
  {
   "cell_type": "markdown",
   "metadata": {},
   "source": [
    "### 167期每周必看"
   ]
  },
  {
   "cell_type": "code",
   "execution_count": 55,
   "metadata": {},
   "outputs": [
    {
     "name": "stdout",
     "output_type": "stream",
     "text": [
      "加载完成\n"
     ]
    },
    {
     "name": "stderr",
     "output_type": "stream",
     "text": [
      "/var/folders/jn/tbw_ghm91nzfy0y5zz9n5xcc0000gn/T/ipykernel_82093/3459330528.py:12: DeprecationWarning: find_element_by_xpath is deprecated. Please use find_element(by=By.XPATH, value=xpath) instead\n",
      "  button_1=browser.find_element_by_xpath('//*[@id=\"app\"]/div/div[1]/div[2]/div/span') # 每周必看\n",
      "/var/folders/jn/tbw_ghm91nzfy0y5zz9n5xcc0000gn/T/ipykernel_82093/3459330528.py:15: DeprecationWarning: find_element_by_xpath is deprecated. Please use find_element(by=By.XPATH, value=xpath) instead\n",
      "  button_2=browser.find_element_by_xpath('//*[@id=\"app\"]/div/div[2]/div[1]/div[1]/span')\n",
      "/var/folders/jn/tbw_ghm91nzfy0y5zz9n5xcc0000gn/T/ipykernel_82093/3459330528.py:18: DeprecationWarning: find_element_by_xpath is deprecated. Please use find_element(by=By.XPATH, value=xpath) instead\n",
      "  button_3=browser.find_element_by_xpath('//*[@id=\"app\"]/div/div[2]/div[1]/div[1]/div/div[1]/p[1]')  # 167期\n"
     ]
    },
    {
     "name": "stdout",
     "output_type": "stream",
     "text": [
      "加载完成\n"
     ]
    },
    {
     "name": "stderr",
     "output_type": "stream",
     "text": [
      "/var/folders/jn/tbw_ghm91nzfy0y5zz9n5xcc0000gn/T/ipykernel_82093/3459330528.py:41: DeprecationWarning: find_element_by_xpath is deprecated. Please use find_element(by=By.XPATH, value=xpath) instead\n",
      "  elem_text=browser.find_element_by_xpath(f'//*[@id=\"app\"]/div/div[2]/div[2]/div/div[{i}]/div[2]/p')  # 视频标题\n",
      "/var/folders/jn/tbw_ghm91nzfy0y5zz9n5xcc0000gn/T/ipykernel_82093/3459330528.py:44: DeprecationWarning: find_element_by_xpath is deprecated. Please use find_element(by=By.XPATH, value=xpath) instead\n",
      "  elem_up=browser.find_element_by_xpath(f'//*[@id=\"app\"]/div/div[2]/div[2]/div/div[{i}]/div[2]/div/span[1]/span')  # UP主页面\n",
      "/var/folders/jn/tbw_ghm91nzfy0y5zz9n5xcc0000gn/T/ipykernel_82093/3459330528.py:51: DeprecationWarning: find_element_by_xpath is deprecated. Please use find_element(by=By.XPATH, value=xpath) instead\n",
      "  elem_fans=browser.find_element_by_xpath(f'//*[@id=\"n-fs\"]')\n"
     ]
    }
   ],
   "source": [
    "browser=webdriver.Chrome()\n",
    "browser.get('https://www.bilibili.com/v/popular/all?spm_id_from=333.1007.0.0')\n",
    "try:\n",
    "    wait=WebDriverWait(browser,100)\n",
    "    element=wait.until(EC.presence_of_all_elements_located)\n",
    "finally:\n",
    "    print('加载完成')\n",
    "\n",
    "windows=browser.window_handles \n",
    "browser.switch_to.window(windows[-1])\n",
    "browser.execute_script('var q=document.documentElement.scrollTop=0')\n",
    "button_1=browser.find_element_by_xpath('//*[@id=\"app\"]/div/div[1]/div[2]/div/span') # 每周必看\n",
    "button_1.click()\n",
    "time.sleep(2)\n",
    "button_2=browser.find_element_by_xpath('//*[@id=\"app\"]/div/div[2]/div[1]/div[1]/span')\n",
    "button_2.click()\n",
    "time.sleep(2)\n",
    "button_3=browser.find_element_by_xpath('//*[@id=\"app\"]/div/div[2]/div[1]/div[1]/div/div[1]/p[1]')  # 167期\n",
    "button_3.click()\n",
    "\n",
    "windows=browser.window_handles\n",
    "browser.switch_to.window(windows[-1])\n",
    "try:\n",
    "    wait=WebDriverWait(browser,100)\n",
    "    element=wait.until(EC.presence_of_all_elements_located)\n",
    "finally:\n",
    "    print('加载完成')\n",
    "\n",
    "time.sleep(2)\n",
    "\n",
    "fans167 = []\n",
    "up167 = []\n",
    "title_week167 = [] # 每周必看视频的标题\n",
    "\n",
    "\n",
    "\n",
    "for i in range (1,43):\n",
    "    try: \n",
    "        windows=browser.window_handles\n",
    "        browser.switch_to.window(windows[-1])\n",
    "        elem_text=browser.find_element_by_xpath(f'//*[@id=\"app\"]/div/div[2]/div[2]/div/div[{i}]/div[2]/p')  # 视频标题\n",
    "        title_week167.append(elem_text.text)  # 将比视频标题放入列表\n",
    "\n",
    "        elem_up=browser.find_element_by_xpath(f'//*[@id=\"app\"]/div/div[2]/div[2]/div/div[{i}]/div[2]/div/span[1]/span')  # UP主页面\n",
    "        up167.append(elem_up.text)\n",
    "        elem_up.click()  # 点击进入up主页面\n",
    "        time.sleep(10)\n",
    "\n",
    "        windows=browser.window_handles\n",
    "        browser.switch_to.window(windows[-1])\n",
    "        elem_fans=browser.find_element_by_xpath(f'//*[@id=\"n-fs\"]')\n",
    "        fans167.append(elem_fans.text)\n",
    "            \n",
    "        browser.close()\n",
    "        \n",
    "    except Exception as e:\n",
    "        pass\n",
    "    continue"
   ]
  },
  {
   "cell_type": "code",
   "execution_count": 57,
   "metadata": {},
   "outputs": [],
   "source": [
    "list_target167 = []\n",
    "for i in range(0,34):\n",
    "    list_target167.append([])\n",
    "    list_target167[i].append(title_week167[i])\n",
    "    list_target167[i].append(up167[i])\n",
    "    list_target167[i].append(fans167[i])\n",
    "\n",
    "with open('fans167.csv', 'w',encoding='utf_8_sig') as f:  \n",
    "    writer = csv.writer(f)\n",
    "    for row in list_target167:\n",
    "        writer.writerow(row)  # 将列表信息写如csv文档"
   ]
  },
  {
   "cell_type": "markdown",
   "metadata": {},
   "source": [
    "### 读取csv文档 进行统计"
   ]
  },
  {
   "cell_type": "markdown",
   "metadata": {},
   "source": [
    "## 164期"
   ]
  },
  {
   "cell_type": "code",
   "execution_count": 99,
   "metadata": {},
   "outputs": [
    {
     "data": {
      "image/png": "[encoded data removed]",
      "text/plain": [
       "<Figure size 432x288 with 1 Axes>"
      ]
     },
     "metadata": {
      "needs_background": "light"
     },
     "output_type": "display_data"
    }
   ],
   "source": [
    "import pandas as pd\n",
    "import matplotlib.pyplot as plt\n",
    "\n",
    "data = pd.read_csv('fans164.csv',names=['标题','up主','粉丝数'])  # 164期\n",
    "\n",
    "title_week = data['标题']\n",
    "fans = data['粉丝数']\n",
    "\n",
    "for i in range(0,42):\n",
    "    if '万' in fans[i]:\n",
    "        fans[i] = float(fans[i].strip('万'))\n",
    "    else:\n",
    "        fans[i] = float(fans[i])/10000\n",
    "\n",
    "for j in range(0,42):\n",
    "    if fans[j]<=1:\n",
    "        fans[j]=1\n",
    "    if 1<fans[j]<=10:\n",
    "        fans[j]=2\n",
    "    if 10<fans[j]<=100:\n",
    "        fans[j]=3\n",
    "    if 100<fans[j]<=500:\n",
    "        fans[j]=4\n",
    "    if fans[j]>500:\n",
    "        fans[j]=5\n",
    "\n",
    "# 绘制直方图\n",
    "plt.hist(x = fans, # 指定绘图数据\n",
    "         bins = 5, # 指定直方图中条块的个数\n",
    "         color = 'steelblue', # 指定直方图的填充色\n",
    "         edgecolor = 'black' # 指定直方图的边框色\n",
    "         )\n",
    "\n",
    "# 添加x轴和y轴标签\n",
    "plt.xlabel('fans')\n",
    "plt.ylabel('frequency')\n",
    "\n",
    "x=[1,2,3,4,5]                    #虚假的x值，用来等间距分割\n",
    "x_index=['1','2','3','4','5']  # x 轴显示的刻度\n",
    "plt.xticks(x,x_index) \n",
    "plt.title('164th')\n",
    "plt.show()"
   ]
  },
  {
   "cell_type": "code",
   "execution_count": 130,
   "metadata": {},
   "outputs": [
    {
     "data": {
      "image/png": "[encoded data removed]",
      "text/plain": [
       "<Figure size 432x288 with 1 Axes>"
      ]
     },
     "metadata": {
      "needs_background": "light"
     },
     "output_type": "display_data"
    }
   ],
   "source": [
    "import pandas as pd\n",
    "import matplotlib.pyplot as plt\n",
    "\n",
    "data = pd.read_csv('fans165.csv',names=['标题','up主','粉丝数'])  # 165期\n",
    "\n",
    "title_week = data['标题']\n",
    "fans = data['粉丝数']\n",
    "\n",
    "for i in range(0,42):\n",
    "    if '万' in fans[i]:\n",
    "        fans[i] = float(fans[i].strip('万'))\n",
    "    else:\n",
    "        fans[i] = float(fans[i])/10000\n",
    "\n",
    "for j in range(0,42):\n",
    "    if fans[j]<=1:\n",
    "        fans[j]=1\n",
    "    if 1<fans[j]<=10:\n",
    "        fans[j]=2\n",
    "    if 10<fans[j]<=100:\n",
    "        fans[j]=3\n",
    "    if 100<fans[j]<=500:\n",
    "        fans[j]=4\n",
    "    if fans[j]>500:\n",
    "        fans[j]=5\n",
    "\n",
    "# 绘制直方图\n",
    "plt.hist(x = fans, # 指定绘图数据\n",
    "         bins = 5, # 指定直方图中条块的个数\n",
    "         color = 'steelblue', # 指定直方图的填充色\n",
    "         edgecolor = 'black' # 指定直方图的边框色\n",
    "         )\n",
    "\n",
    "# 添加x轴和y轴标签\n",
    "plt.xlabel('fans')\n",
    "plt.ylabel('frequency')\n",
    "\n",
    "x=[1,2,3,4,5]                    #虚假的x值，用来等间距分割\n",
    "x_index=['1','2','3','4','5']  # x 轴显示的刻度\n",
    "plt.xticks(x,x_index) \n",
    "plt.title('165th')\n",
    "plt.show()"
   ]
  },
  {
   "cell_type": "code",
   "execution_count": 102,
   "metadata": {},
   "outputs": [
    {
     "data": {
      "image/png": "[encoded data removed]",
      "text/plain": [
       "<Figure size 432x288 with 1 Axes>"
      ]
     },
     "metadata": {
      "needs_background": "light"
     },
     "output_type": "display_data"
    }
   ],
   "source": [
    "import pandas as pd\n",
    "import matplotlib.pyplot as plt\n",
    "\n",
    "data = pd.read_csv('fans166.csv',names=['标题','up主','粉丝数'])  # 166期\n",
    "\n",
    "title_week = data['标题']\n",
    "fans = data['粉丝数']\n",
    "\n",
    "for i in range(0,42):\n",
    "    if '万' in fans[i]:\n",
    "        fans[i] = float(fans[i].strip('万'))\n",
    "    else:\n",
    "        fans[i] = float(fans[i])/10000\n",
    "\n",
    "for j in range(0,42):\n",
    "    if fans[j]<=1:\n",
    "        fans[j]=1\n",
    "    if 1<fans[j]<=10:\n",
    "        fans[j]=2\n",
    "    if 10<fans[j]<=100:\n",
    "        fans[j]=3\n",
    "    if 100<fans[j]<=500:\n",
    "        fans[j]=4\n",
    "    if fans[j]>500:\n",
    "        fans[j]=5\n",
    "\n",
    "# 绘制直方图\n",
    "plt.hist(x = fans, # 指定绘图数据\n",
    "         bins = 5, # 指定直方图中条块的个数\n",
    "         color = 'steelblue', # 指定直方图的填充色\n",
    "         edgecolor = 'black' # 指定直方图的边框色\n",
    "         )\n",
    "\n",
    "# 添加x轴和y轴标签\n",
    "plt.xlabel('fans')\n",
    "plt.ylabel('frequency')\n",
    "\n",
    "x=[1,2,3,4,5]                    #虚假的x值，用来等间距分割\n",
    "x_index=['1','2','3','4','5']  # x 轴显示的刻度\n",
    "plt.xticks(x,x_index) \n",
    "plt.title('166th')\n",
    "plt.show()"
   ]
  },
  {
   "cell_type": "code",
   "execution_count": 125,
   "metadata": {},
   "outputs": [
    {
     "data": {
      "image/png": "[encoded data removed]",
      "text/plain": [
       "<Figure size 432x288 with 1 Axes>"
      ]
     },
     "metadata": {
      "needs_background": "light"
     },
     "output_type": "display_data"
    }
   ],
   "source": [
    "import pandas as pd\n",
    "import matplotlib.pyplot as plt\n",
    "\n",
    "data = pd.read_csv('fans167.csv',names=['标题','up主','粉丝数'])  # 167期\n",
    "\n",
    "title_week = data['标题']\n",
    "fans = data['粉丝数']\n",
    "\n",
    "for i in range(0,34):\n",
    "    if '万' in fans[i]:\n",
    "        fans[i] = float(fans[i].strip('万'))\n",
    "    else:\n",
    "        fans[i] = float(fans[i])/10000\n",
    "\n",
    "for j in range(0,34):\n",
    "    if fans[j]<=1:\n",
    "        fans[j]=1\n",
    "    if 1<fans[j]<=10:\n",
    "        fans[j]=2\n",
    "    if 10<fans[j]<=100:\n",
    "        fans[j]=3\n",
    "    if 100<fans[j]<=500:\n",
    "        fans[j]=4\n",
    "    if fans[j]>500:\n",
    "        fans[j]=5\n",
    "\n",
    "# 绘制直方图\n",
    "plt.hist(x = fans, # 指定绘图数据\n",
    "         bins = 5, # 指定直方图中条块的个数\n",
    "         color = 'steelblue', # 指定直方图的填充色\n",
    "         edgecolor = 'black' # 指定直方图的边框色\n",
    "         )\n",
    "\n",
    "# 添加x轴和y轴标签\n",
    "plt.xlabel('fans')\n",
    "plt.ylabel('frequency')\n",
    "\n",
    "x=[1.4,2.2,3,3.8,4.7]             # 虚假的x值，用来等间距分割\n",
    "x_index=['1','2','3','4','5']     # x轴显示的刻度\n",
    "plt.xticks(x,x_index) \n",
    "plt.title('167th')\n",
    "plt.show()"
   ]
  },
  {
   "cell_type": "markdown",
   "metadata": {},
   "source": [
    "### 最近四期的总体情况"
   ]
  },
  {
   "cell_type": "code",
   "execution_count": 132,
   "metadata": {},
   "outputs": [
    {
     "data": {
      "image/png": "[encoded data removed]",
      "text/plain": [
       "<Figure size 432x288 with 1 Axes>"
      ]
     },
     "metadata": {
      "needs_background": "light"
     },
     "output_type": "display_data"
    }
   ],
   "source": [
    "import pandas as pd\n",
    "import matplotlib.pyplot as plt\n",
    "\n",
    "data1 = pd.read_csv('fans164.csv',names=['标题','up主','粉丝数'])  \n",
    "data2 = pd.read_csv('fans165.csv',names=['标题','up主','粉丝数'])  \n",
    "data3 = pd.read_csv('fans166.csv',names=['标题','up主','粉丝数'])  \n",
    "data4 = pd.read_csv('fans167.csv',names=['标题','up主','粉丝数'])  \n",
    "\n",
    "frames = [data1, data2, data3, data4]\n",
    "df = pd.concat(frames, ignore_index=True)\n",
    "\n",
    "title_week = df['标题']\n",
    "fans = df['粉丝数']\n",
    "\n",
    "for i in range(0,160):\n",
    "    if '万' in fans[i]:\n",
    "        fans[i] = float(fans[i].strip('万'))\n",
    "    else:\n",
    "        fans[i] = float(fans[i])/10000\n",
    "\n",
    "for j in range(0,160):\n",
    "    if fans[j]<=1:\n",
    "        fans[j]=1\n",
    "    if 1<fans[j]<=10:\n",
    "        fans[j]=2\n",
    "    if 10<fans[j]<=100:\n",
    "        fans[j]=3\n",
    "    if 100<fans[j]<=500:\n",
    "        fans[j]=4\n",
    "    if fans[j]>500:\n",
    "        fans[j]=5\n",
    "\n",
    "# 绘制直方图\n",
    "plt.hist(x = fans, # 指定绘图数据\n",
    "         bins = 5, # 指定直方图中条块的个数\n",
    "         color = 'steelblue', # 指定直方图的填充色\n",
    "         edgecolor = 'black' # 指定直方图的边框色\n",
    "         )\n",
    "\n",
    "# 添加x轴和y轴标签\n",
    "plt.xlabel('fans')\n",
    "plt.ylabel('frequency')\n",
    "\n",
    "x=[1.4,2.2,3,3.8,4.7]             # 虚假的x值，用来等间距分割\n",
    "x_index=['1','2','3','4','5']     # x轴显示的刻度\n",
    "plt.xticks(x,x_index) \n",
    "plt.title('164-167th')\n",
    "plt.show()"
   ]
  },
  {
   "cell_type": "code",
   "execution_count": 142,
   "metadata": {},
   "outputs": [
    {
     "data": {
      "text/plain": [
       "24    1\n",
       "97    1\n",
       "Name: 粉丝数, dtype: object"
      ]
     },
     "execution_count": 142,
     "metadata": {},
     "output_type": "execute_result"
    }
   ],
   "source": [
    "fans[fans==1]"
   ]
  },
  {
   "cell_type": "code",
   "execution_count": 143,
   "metadata": {},
   "outputs": [
    {
     "data": {
      "text/plain": [
       "3      2\n",
       "9      2\n",
       "13     2\n",
       "15     2\n",
       "25     2\n",
       "30     2\n",
       "59     2\n",
       "69     2\n",
       "99     2\n",
       "107    2\n",
       "109    2\n",
       "114    2\n",
       "123    2\n",
       "142    2\n",
       "Name: 粉丝数, dtype: object"
      ]
     },
     "execution_count": 143,
     "metadata": {},
     "output_type": "execute_result"
    }
   ],
   "source": [
    "fans[fans==2]"
   ]
  },
  {
   "cell_type": "code",
   "execution_count": 154,
   "metadata": {},
   "outputs": [
    {
     "data": {
      "text/plain": [
       "标题     【动画毕设】《蓝骑士》\n",
       "up主           二斤鬼火\n",
       "粉丝数              1\n",
       "Name: 24, dtype: object"
      ]
     },
     "execution_count": 154,
     "metadata": {},
     "output_type": "execute_result"
    }
   ],
   "source": [
    "df.loc[24]"
   ]
  }
 ],
 "metadata": {
  "interpreter": {
   "hash": "d3bf13831a9b2124062ea71dee3e203add5676820b25aeea4060e3a26757099f"
  },
  "kernelspec": {
   "display_name": "Python 3.9.1",
   "language": "python",
   "name": "python3"
  },
  "language_info": {
   "codemirror_mode": {
    "name": "ipython",
    "version": 3
   },
   "file_extension": ".py",
   "mimetype": "text/x-python",
   "name": "python",
   "nbconvert_exporter": "python",
   "pygments_lexer": "ipython3",
   "version": "3.9.1"
  },
  "orig_nbformat": 4
 },
 "nbformat": 4,
 "nbformat_minor": 2
}
